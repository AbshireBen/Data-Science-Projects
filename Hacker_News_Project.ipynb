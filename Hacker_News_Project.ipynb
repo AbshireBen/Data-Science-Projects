{
 "cells": [
  {
   "cell_type": "markdown",
   "metadata": {
    "collapsed": true
   },
   "source": [
    "# Hacker News Post Project\n",
    "\n",
    "***Hacker News is a user-submitted collection of posts that can have hundreds of thousands of visitors and commentors. This project will retrieve and analyze data from the site in order to answer a couple basic questions:***\n",
    "\n",
    "#### 1.) Do Ask HN or Show HN Posts Receive More Comments?\n",
    "\n",
    "*(Ask HN is a form of post to gain insight from the community, while Show HN posts aim to inform)*\n",
    "\n",
    "#### 2.) Does Time of Post Affect Comment Ct?"
   ]
  },
  {
   "cell_type": "code",
   "execution_count": 1,
   "metadata": {},
   "outputs": [
    {
     "data": {
      "text/plain": [
       "[['id', 'title', 'url', 'num_points', 'num_comments', 'author', 'created_at'],\n",
       " ['12224879',\n",
       "  'Interactive Dynamic Video',\n",
       "  'http://www.interactivedynamicvideo.com/',\n",
       "  '386',\n",
       "  '52',\n",
       "  'ne0phyte',\n",
       "  '8/4/2016 11:52'],\n",
       " ['10975351',\n",
       "  'How to Use Open Source and Shut the Fuck Up at the Same Time',\n",
       "  'http://hueniverse.com/2016/01/26/how-to-use-open-source-and-shut-the-fuck-up-at-the-same-time/',\n",
       "  '39',\n",
       "  '10',\n",
       "  'josep2',\n",
       "  '1/26/2016 19:30'],\n",
       " ['11964716',\n",
       "  \"Florida DJs May Face Felony for April Fools' Water Joke\",\n",
       "  'http://www.thewire.com/entertainment/2013/04/florida-djs-april-fools-water-joke/63798/',\n",
       "  '2',\n",
       "  '1',\n",
       "  'vezycash',\n",
       "  '6/23/2016 22:20'],\n",
       " ['11919867',\n",
       "  'Technology ventures: From Idea to Enterprise',\n",
       "  'https://www.amazon.com/Technology-Ventures-Enterprise-Thomas-Byers/dp/0073523429',\n",
       "  '3',\n",
       "  '1',\n",
       "  'hswarna',\n",
       "  '6/17/2016 0:01']]"
      ]
     },
     "execution_count": 1,
     "metadata": {},
     "output_type": "execute_result"
    }
   ],
   "source": [
    "import csv\n",
    "\n",
    "file = open('hacker_news.csv')\n",
    "read_file = csv.reader(file)\n",
    "hn = list(read_file)\n",
    "\n",
    "hn[:5]\n"
   ]
  },
  {
   "cell_type": "code",
   "execution_count": 2,
   "metadata": {},
   "outputs": [
    {
     "name": "stdout",
     "output_type": "stream",
     "text": [
      "['id', 'title', 'url', 'num_points', 'num_comments', 'author', 'created_at']\n",
      "[['12224879', 'Interactive Dynamic Video', 'http://www.interactivedynamicvideo.com/', '386', '52', 'ne0phyte', '8/4/2016 11:52'], ['10975351', 'How to Use Open Source and Shut the Fuck Up at the Same Time', 'http://hueniverse.com/2016/01/26/how-to-use-open-source-and-shut-the-fuck-up-at-the-same-time/', '39', '10', 'josep2', '1/26/2016 19:30'], ['11964716', \"Florida DJs May Face Felony for April Fools' Water Joke\", 'http://www.thewire.com/entertainment/2013/04/florida-djs-april-fools-water-joke/63798/', '2', '1', 'vezycash', '6/23/2016 22:20'], ['11919867', 'Technology ventures: From Idea to Enterprise', 'https://www.amazon.com/Technology-Ventures-Enterprise-Thomas-Byers/dp/0073523429', '3', '1', 'hswarna', '6/17/2016 0:01'], ['10301696', 'Note by Note: The Making of Steinway L1037 (2007)', 'http://www.nytimes.com/2007/11/07/movies/07stein.html?_r=0', '8', '2', 'walterbell', '9/30/2015 4:12']]\n"
     ]
    }
   ],
   "source": [
    "headers = hn[0]\n",
    "hn = hn[1:]\n",
    "\n",
    "print(headers)\n",
    "print(hn[:5])\n"
   ]
  },
  {
   "cell_type": "code",
   "execution_count": 3,
   "metadata": {},
   "outputs": [
    {
     "name": "stdout",
     "output_type": "stream",
     "text": [
      "Ask Posts:  1,744\n",
      "Show Posts:  1,162\n",
      "Other Posts:  17,194\n"
     ]
    }
   ],
   "source": [
    "ask_posts, show_posts, other_posts = [],[],[]\n",
    "\n",
    "for row in hn:\n",
    "    title = row[1].lower()\n",
    "    if title.startswith('ask hn') == True:\n",
    "        ask_posts.append(row)\n",
    "    elif title.startswith('show hn') == True:\n",
    "        show_posts.append(row)\n",
    "    else:\n",
    "        other_posts.append(row)\n",
    "        \n",
    "print('Ask Posts: ', \"{:,}\".format(len(ask_posts)))\n",
    "print('Show Posts: ', \"{:,}\".format(len(show_posts)))\n",
    "print('Other Posts: ', \"{:,}\".format(len(other_posts)))"
   ]
  },
  {
   "cell_type": "code",
   "execution_count": 4,
   "metadata": {},
   "outputs": [
    {
     "name": "stdout",
     "output_type": "stream",
     "text": [
      "\n",
      "Total Ask Comments:  24,483\n",
      "Average Ask Comments:  14.04\n",
      "\n",
      "Total Show Comments:  11,988\n",
      "Average Show Comments:  10.32\n",
      "\n",
      "Total Other Comments:  462,055\n",
      "Average Other Comments:  26.87\n"
     ]
    }
   ],
   "source": [
    "def total_a_avg_com(a_list):\n",
    "    total_coms = 0\n",
    "    for row in a_list:\n",
    "        n_com = int(row[4])\n",
    "        total_coms = total_coms + n_com\n",
    "    avg_com = total_coms / len(a_list)\n",
    "    return total_coms, avg_com\n",
    "\n",
    "total_ask_comments,avg_ask_comments = total_a_avg_com(ask_posts)\n",
    "total_show_comments,avg_show_comments = total_a_avg_com(show_posts)\n",
    "total_other_comments,avg_other_comments = total_a_avg_com(other_posts)\n",
    "\n",
    "print(\"\\nTotal Ask Comments: \", \"{:,}\".format(total_ask_comments))\n",
    "print(\"Average Ask Comments: \",\"{0:.2f}\".format(avg_ask_comments))  \n",
    "print(\"\\nTotal Show Comments: \", \"{:,}\".format(total_show_comments))\n",
    "print(\"Average Show Comments: \",\"{0:.2f}\".format(avg_show_comments))  \n",
    "print(\"\\nTotal Other Comments: \", \"{:,}\".format(total_other_comments))\n",
    "print(\"Average Other Comments: \",\"{0:.2f}\".format(avg_other_comments))  \n",
    "\n"
   ]
  },
  {
   "cell_type": "markdown",
   "metadata": {},
   "source": [
    "**It appears Ask HN posts generate ~40% more comments on average than Show HN posts**\n",
    "\n",
    " Using the Ask HN posts, let's look at the effect of posting time on comment counts"
   ]
  },
  {
   "cell_type": "code",
   "execution_count": 9,
   "metadata": {},
   "outputs": [
    {
     "data": {
      "text/plain": [
       "[['8/16/2016 9:55', 6]]"
      ]
     },
     "execution_count": 9,
     "metadata": {},
     "output_type": "execute_result"
    }
   ],
   "source": [
    "import datetime as dt\n",
    "\n",
    "result_list = []\n",
    "for row in ask_posts:\n",
    "    created_at = row[6]\n",
    "    count = int(row[4])\n",
    "    result_list.append([created_at,count])\n",
    "    \n",
    "result_list[:1]\n"
   ]
  },
  {
   "cell_type": "code",
   "execution_count": 18,
   "metadata": {},
   "outputs": [
    {
     "name": "stdout",
     "output_type": "stream",
     "text": [
      "\n",
      "# of Posts by Hour:  \n",
      " {9: 45, 13: 85, 10: 59, 14: 107, 16: 108, 23: 68, 12: 73, 17: 100, 15: 116, 21: 109, 20: 80, 2: 58, 18: 109, 3: 54, 5: 46, 19: 110, 1: 60, 22: 71, 8: 48, 4: 47, 0: 55, 6: 44, 7: 34, 11: 58}\n",
      "\n",
      "# of Comments by Hour \n",
      " {9: 251, 13: 1253, 10: 793, 14: 1416, 16: 1814, 23: 543, 12: 687, 17: 1146, 15: 4477, 21: 1745, 20: 1722, 2: 1381, 18: 1439, 3: 421, 5: 464, 19: 1188, 1: 683, 22: 479, 8: 492, 4: 337, 0: 447, 6: 397, 7: 267, 11: 641}\n"
     ]
    }
   ],
   "source": [
    "counts_by_hour = {}\n",
    "comments_by_hour = {}\n",
    "\n",
    "for row in result_list:\n",
    "    date_str = row[0]\n",
    "    date_dt = dt.datetime.strptime(date_str,\"%m/%d/%Y %H:%M\")\n",
    "    hour_dt = date_dt.hour\n",
    "    \n",
    "    if hour_dt in counts_by_hour:\n",
    "        counts_by_hour[hour_dt] += 1\n",
    "        comments_by_hour[hour_dt] += row[1]\n",
    "    else:\n",
    "        counts_by_hour[hour_dt] = 1\n",
    "        comments_by_hour[hour_dt] = row[1]\n",
    "        \n",
    "print(\"\\n# of Posts by Hour:  \\n\" , counts_by_hour)\n",
    "print(\"\\n# of Comments by Hour \\n\",comments_by_hour)"
   ]
  },
  {
   "cell_type": "markdown",
   "metadata": {},
   "source": [
    "Let's create a list of lists containing the hours during which posts were created and the average number of comments those posts received."
   ]
  },
  {
   "cell_type": "code",
   "execution_count": 45,
   "metadata": {},
   "outputs": [
    {
     "name": "stdout",
     "output_type": "stream",
     "text": [
      "\n",
      "Average Comment Count per Post by Hour:\n"
     ]
    },
    {
     "data": {
      "text/plain": [
       "[[0, 8.13],\n",
       " [1, 11.38],\n",
       " [2, 23.81],\n",
       " [3, 7.8],\n",
       " [4, 7.17],\n",
       " [5, 10.09],\n",
       " [6, 9.02],\n",
       " [7, 7.85],\n",
       " [8, 10.25],\n",
       " [9, 5.58],\n",
       " [10, 13.44],\n",
       " [11, 11.05],\n",
       " [12, 9.41],\n",
       " [13, 14.74],\n",
       " [14, 13.23],\n",
       " [15, 38.59],\n",
       " [16, 16.8],\n",
       " [17, 11.46],\n",
       " [18, 13.2],\n",
       " [19, 10.8],\n",
       " [20, 21.52],\n",
       " [21, 16.01],\n",
       " [22, 6.75],\n",
       " [23, 7.99]]"
      ]
     },
     "execution_count": 45,
     "metadata": {},
     "output_type": "execute_result"
    }
   ],
   "source": [
    "avg_by_hour = []\n",
    "\n",
    "for item in counts_by_hour:\n",
    "    avg_by_hour.append([item, float(\"{0:.2f}\".format(comments_by_hour[item]/counts_by_hour[item]))])\n",
    "\n",
    "def sorted(i):\n",
    "    return i[0]\n",
    "\n",
    "avg_by_hour.sort(key=sorted)\n",
    "print(\"\\nAverage Comment Count per Post by Hour:\")\n",
    "avg_by_hour"
   ]
  },
  {
   "cell_type": "markdown",
   "metadata": {},
   "source": [
    "This is hard to read - let's swap columns and show the top 5 times for post counts"
   ]
  },
  {
   "cell_type": "code",
   "execution_count": 58,
   "metadata": {},
   "outputs": [
    {
     "name": "stdout",
     "output_type": "stream",
     "text": [
      "[[8.13, 0], [11.38, 1], [23.81, 2], [7.8, 3], [7.17, 4], [10.09, 5], [9.02, 6], [7.85, 7], [10.25, 8], [5.58, 9], [13.44, 10], [11.05, 11], [9.41, 12], [14.74, 13], [13.23, 14], [38.59, 15], [16.8, 16], [11.46, 17], [13.2, 18], [10.8, 19], [21.52, 20], [16.01, 21], [6.75, 22], [7.99, 23]]\n"
     ]
    }
   ],
   "source": [
    "swap_avg_by_hour = []\n",
    "for row in avg_by_hour:\n",
    "    swap_avg_by_hour.append([row[1],row[0]])\n",
    "    \n",
    "print(swap_avg_by_hour)\n",
    "\n",
    "swap_avg_by_hour.sort(key=sorted,reverse = True)\n"
   ]
  },
  {
   "cell_type": "code",
   "execution_count": 64,
   "metadata": {},
   "outputs": [
    {
     "name": "stdout",
     "output_type": "stream",
     "text": [
      "15:00 ET:  38.59  average comments per post\n",
      "02:00 ET:  23.81  average comments per post\n",
      "20:00 ET:  21.52  average comments per post\n",
      "16:00 ET:  16.8  average comments per post\n",
      "21:00 ET:  16.01  average comments per post\n"
     ]
    }
   ],
   "source": [
    "sorted_swap_top_5 = swap_avg_by_hour[:5]\n",
    "\n",
    "import pytz\n",
    "\n",
    "est = pytz.timezone('US/Eastern')\n",
    "cst = pytz.timezone('US/Central')\n",
    "\n",
    "for row in sorted_swap_top_5:\n",
    "    hour = dt.time(row[1])\n",
    "    hour_str = hour.strftime(\"%H:00\")\n",
    "    print(hour_str,\"ET: \",row[0],\" average comments per post\")"
   ]
  },
  {
   "cell_type": "markdown",
   "metadata": {},
   "source": [
    "### The best times to post for increased comment counts is the above times"
   ]
  },
  {
   "cell_type": "code",
   "execution_count": null,
   "metadata": {},
   "outputs": [],
   "source": []
  }
 ],
 "metadata": {
  "kernelspec": {
   "display_name": "Python 3",
   "language": "python",
   "name": "python3"
  },
  "language_info": {
   "codemirror_mode": {
    "name": "ipython",
    "version": 3
   },
   "file_extension": ".py",
   "mimetype": "text/x-python",
   "name": "python",
   "nbconvert_exporter": "python",
   "pygments_lexer": "ipython3",
   "version": "3.8.2"
  }
 },
 "nbformat": 4,
 "nbformat_minor": 2
}
